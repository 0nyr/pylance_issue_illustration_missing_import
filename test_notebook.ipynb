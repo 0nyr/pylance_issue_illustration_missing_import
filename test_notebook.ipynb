{
 "cells": [
  {
   "cell_type": "code",
   "execution_count": 10,
   "metadata": {},
   "outputs": [
    {
     "name": "stdout",
     "output_type": "stream",
     "text": [
      "TestObject(HelloWorld)\n",
      "TestObject(HelloWorld)\n"
     ]
    }
   ],
   "source": [
    "import sys\n",
    "sys.path.append(\"/home/onyr/missing_import_custom_package/src\")\n",
    "\n",
    "from src.test_package import TestObject\n",
    "obj_1 = TestObject(\"HelloWorld\")\n",
    "obj_1.print_name()"
   ]
  }
 ],
 "metadata": {
  "kernelspec": {
   "display_name": "Python 3.10.4 ('elastic')",
   "language": "python",
   "name": "python3"
  },
  "language_info": {
   "codemirror_mode": {
    "name": "ipython",
    "version": 3
   },
   "file_extension": ".py",
   "mimetype": "text/x-python",
   "name": "python",
   "nbconvert_exporter": "python",
   "pygments_lexer": "ipython3",
   "version": "3.10.4"
  },
  "orig_nbformat": 4,
  "vscode": {
   "interpreter": {
    "hash": "63a415cdad2c2b6fa4f90e110798560840f132cefb32ff641d170d0e54283ed9"
   }
  }
 },
 "nbformat": 4,
 "nbformat_minor": 2
}
