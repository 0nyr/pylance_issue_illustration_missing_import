{
 "cells": [
  {
   "cell_type": "code",
   "execution_count": 2,
   "metadata": {},
   "outputs": [
    {
     "name": "stdout",
     "output_type": "stream",
     "text": [
      "TestObject(HelloWorld)\n",
      "TestObject(HelloWorld)\n"
     ]
    }
   ],
   "source": [
    "import sys\n",
    "sys.path.append(\"/home/onyr/missing_import_custom_package/src\")\n",
    "\n",
    "from src.test_package import TestObject\n",
    "obj_1 = TestObject(\"HelloWorld\")\n",
    "obj_1.print_name()"
   ]
  }
 ],
 "metadata": {
  "kernelspec": {
   "display_name": "Python 3.10.6 ('py310omp')",
   "language": "python",
   "name": "python3"
  },
  "language_info": {
   "codemirror_mode": {
    "name": "ipython",
    "version": 3
   },
   "file_extension": ".py",
   "mimetype": "text/x-python",
   "name": "python",
   "nbconvert_exporter": "python",
   "pygments_lexer": "ipython3",
   "version": "3.10.6"
  },
  "orig_nbformat": 4,
  "vscode": {
   "interpreter": {
    "hash": "326e768ba90daaeab003b865bf168ec19ff1d317a5669a32ab13e56afd7e3f98"
   }
  }
 },
 "nbformat": 4,
 "nbformat_minor": 2
}
